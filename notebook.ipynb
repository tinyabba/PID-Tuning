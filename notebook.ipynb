{
 "cells": [
  {
   "cell_type": "code",
   "execution_count": 1,
   "metadata": {},
   "outputs": [],
   "source": [
    "import sys\n",
    "import itertools\n",
    "import math\n",
    "import numpy as np\n",
    "import json\n",
    "import warnings\n",
    "from datetime import datetime\n",
    "import matplotlib.pyplot as plt\n",
    "from scipy.signal import dstep, dlti\n",
    "\n",
    "import experimental.utils as utils\n",
    "from experimental.agent import PIDTuningAgent\n",
    "from experimental.environment import PIDTuningEnvironment\n",
    "from experimental.runner import Runner\n",
    "from experimental.runner_opt import Runner_opt\n",
    "\n",
    "warnings.filterwarnings(\"ignore\")"
   ]
  },
  {
   "cell_type": "code",
   "execution_count": 2,
   "metadata": {},
   "outputs": [],
   "source": [
    "#Choose testcase and experiment\n",
    "testcase = 6\n",
    "experiment = 23"
   ]
  },
  {
   "cell_type": "code",
   "execution_count": 23,
   "metadata": {},
   "outputs": [],
   "source": [
    "#Open json file\n",
    "\n",
    "f = open(f'config/testcase_synt_{testcase}.json')\n",
    "param_dict = json.load(f)\n",
    "\n",
    "horizon = param_dict['horizon']\n",
    "n_trials = param_dict['n_trials']\n",
    "sigma = param_dict['sigma']\n",
    "\n",
    "n = param_dict['n']\n",
    "p = param_dict['p']\n",
    "m = param_dict['m']\n",
    "\n",
    "A = np.array(param_dict['A'])\n",
    "b = np.array(param_dict['B'])\n",
    "c = np.array(param_dict['C'])\n",
    "\n",
    "#Step signal\n",
    "y_0 = 1"
   ]
  },
  {
   "cell_type": "code",
   "execution_count": 24,
   "metadata": {},
   "outputs": [],
   "source": [
    "#Define dictionary for the errors of the algorithms\n",
    "optimal = \"optimal\"\n",
    "pidtuning = \"pidtuning\"\n",
    "alg_list = [optimal, pidtuning]\n",
    "errors = {alg: np.zeros((n_trials, horizon)) for alg in alg_list}"
   ]
  },
  {
   "cell_type": "code",
   "execution_count": 25,
   "metadata": {},
   "outputs": [],
   "source": [
    "#Define noises\n",
    "np.random.seed(1)\n",
    "noise = np.random.normal(0, sigma, (n_trials, horizon, n))\n",
    "out_noise = np.random.normal(0, sigma, (n_trials, horizon, m))"
   ]
  },
  {
   "cell_type": "code",
   "execution_count": 6,
   "metadata": {},
   "outputs": [],
   "source": [
    "#Define range of possible PID parameters\n",
    "log_space = np.logspace(0, 1, num=28, base=10)\n",
    "\n",
    "K_P_range_start = 0.0\n",
    "K_P_range_end = 1.8\n",
    "K_P_range = (log_space - log_space.min()) / (log_space.max() - log_space.min()) *\\\n",
    "      (K_P_range_end - K_P_range_start) + K_P_range_start\n",
    "\n",
    "K_I_range_start = 0.0\n",
    "K_I_range_end = 2.3\n",
    "K_I_range = (log_space - log_space.min()) / (log_space.max() - log_space.min()) *\\\n",
    "      (K_I_range_end - K_I_range_start) + K_I_range_start\n",
    "\n",
    "K_D_range_start = 0.0\n",
    "K_D_range_end = 0.8\n",
    "K_D_range = (log_space - log_space.min()) / (log_space.max() - log_space.min()) *\\\n",
    "      (K_D_range_end - K_D_range_start) + K_D_range_start"
   ]
  },
  {
   "cell_type": "code",
   "execution_count": null,
   "metadata": {},
   "outputs": [],
   "source": [
    "#Build list of ammissible PID parameters\n",
    "pid_actions = []\n",
    "for K in list(itertools.product(K_P_range, K_I_range, K_D_range)):\n",
    "    bar_A = utils.compute_bar_a(A, b, c, K)\n",
    "    if (np.max(np.absolute(np.linalg.eigvals(bar_A))) < 0.4): \n",
    "        pid_actions.append(np.array(K).reshape(3,1))\n",
    "\n",
    "pid_actions = np.array(pid_actions)\n",
    "n_arms = pid_actions.shape[0]"
   ]
  },
  {
   "cell_type": "code",
   "execution_count": null,
   "metadata": {},
   "outputs": [],
   "source": [
    "print(n_arms)\n",
    "print(np.max(pid_actions[:,0,:]))\n",
    "print(np.max(pid_actions[:,1,:]))\n",
    "print(np.max(pid_actions[:,2,:]))"
   ]
  },
  {
   "cell_type": "markdown",
   "metadata": {},
   "source": [
    "### Regret"
   ]
  },
  {
   "cell_type": "code",
   "execution_count": null,
   "metadata": {},
   "outputs": [],
   "source": [
    "#Load data\n",
    "\n",
    "errors[pidtuning] = np.load(f'.\\experiments\\experiment_{experiment}\\pid_tuning_errors{experiment}.npy', allow_pickle=True)\n",
    "if (experiment!=1):\n",
    "    loaded = np.load(f\".\\experiments\\experiment_{experiment}\\experiment_{experiment}.npz\", allow_pickle=True)\n",
    "    errors[optimal] = loaded['optimal_errors']\n",
    "    K_opt = loaded['K_opt']\n",
    "    K_opt_idx = loaded['K_opt_idx']\n",
    "    pid_actions = loaded['pid_actions']\n",
    "else:\n",
    "    errors[optimal] = np.load(\".\\experiments\\experiment_1\\optimal_errors1.npy\", allow_pickle=True)\n",
    "    K_opt = np.load(\".\\experiments\\experiment_1\\K_opt_1.npy\", allow_pickle=True)\n",
    "    K_opt_idx = np.load(\".\\experiments\\experiment_1\\K_opt_idx_1.npy\", allow_pickle=True)\n",
    "\n",
    "#Print shapes\n",
    "print(np.shape(errors[pidtuning]))\n",
    "print(np.shape(errors[optimal]))\n",
    "\n",
    "#Print best PID action for each simulation\n",
    "print(K_opt_idx)\n",
    "\n",
    "#Print max P, I, D parameters contained in pid_actions\n",
    "print(\"Max P parameter:\", np.max(pid_actions[:,0,:]))\n",
    "print(\"Max I parameter:\", np.max(pid_actions[:,1,:]))\n",
    "print(\"Max D parameter:\", np.max(pid_actions[:,2,:]))"
   ]
  },
  {
   "cell_type": "code",
   "execution_count": null,
   "metadata": {},
   "outputs": [],
   "source": [
    "#Compute regret for PIDTuning\n",
    "\n",
    "inst_regret = np.zeros((n_trials, horizon))\n",
    "cum_regret = np.zeros((n_trials, horizon))\n",
    "\n",
    "inst_regret =  errors[pidtuning] **2 - errors[optimal][:,0:horizon]**2\n",
    "for trial_i in range(n_trials):\n",
    "    cum_regret[trial_i] = np.cumsum(inst_regret[trial_i])\n",
    "cum_regret_mean = np.mean(cum_regret, axis=0)\n",
    "cum_regret_std = np.std(cum_regret, axis=0) / np.sqrt(n_trials)"
   ]
  },
  {
   "cell_type": "code",
   "execution_count": null,
   "metadata": {},
   "outputs": [],
   "source": [
    "#Plot cumulative mean regret with std deviation\n",
    "plt.figure(figsize=(8, 6))\n",
    "\n",
    "x_ticks = np.linspace(0, len(cum_regret_mean), 5, dtype=int)\n",
    "y_ticks = np.linspace(np.floor(min(cum_regret_mean - cum_regret_std)), \n",
    "                      np.ceil(max(cum_regret_mean + cum_regret_std)), 5)\n",
    "plt.plot(cum_regret_mean, label='σ = 0.001')\n",
    "plt.fill_between(range(len(cum_regret_mean)), \n",
    "                 cum_regret_mean - cum_regret_std, \n",
    "                 cum_regret_mean + cum_regret_std, \n",
    "                 color='b', alpha=0.2)\n",
    "\n",
    "\n",
    "plt.xticks(x_ticks, fontsize=20)\n",
    "plt.yticks(y_ticks, fontsize=20)\n",
    "plt.xlabel('Number of rounds', fontsize=20)\n",
    "plt.ylabel('Cumulative Regret', fontsize=20)\n",
    "#plt.legend()\n",
    "plt.grid(True)\n",
    "#plt.title(\"Cumulative mean regret with standard deviation\")\n",
    "plt.show()\n",
    "\n",
    "#Plot all simulations\n",
    "x_ticks = np.linspace(0, len(cum_regret[0]), 5, dtype=int)\n",
    "y_ticks = np.linspace(0, np.ceil(np.max(cum_regret)), 5)\n",
    "plt.figure(figsize=(8, 6))\n",
    "for i in range(2):\n",
    "    label = f'Simulation {i+1}'\n",
    "    plt.plot(cum_regret[i], label=label)\n",
    "plt.xticks(x_ticks, fontsize=12) \n",
    "plt.yticks(y_ticks, fontsize=12)\n",
    "plt.xlabel('Number of rounds', fontsize=16)\n",
    "plt.ylabel('Cumulative Regret', fontsize=16)\n",
    "plt.legend(fontsize=11)\n",
    "plt.grid(True)\n",
    "#plt.title(\"Cumulative regret for each simulation\")\n",
    "plt.show()\n"
   ]
  },
  {
   "cell_type": "code",
   "execution_count": null,
   "metadata": {},
   "outputs": [],
   "source": [
    "#Plot pulled PID actions\n",
    "pulled_arms = np.load(f\".\\experiments\\experiment_{experiment}\\pulled_arms_{experiment}.npy\", allow_pickle=True)\n",
    "pulled_arms = pulled_arms.reshape(n_trials, horizon, 3)\n",
    "pid_actions_reshaped = pid_actions.reshape(len(pid_actions), 3)\n",
    "\n",
    "list = np.zeros((n_trials, horizon))\n",
    "for sim_i in range(n_trials):\n",
    "    for t in range(horizon):\n",
    "        match = np.all(pid_actions_reshaped == pulled_arms[sim_i, t], axis=1)\n",
    "        index = np.where(match)[0]\n",
    "        list[sim_i, t] = index\n",
    "\n",
    "sim = 5\n",
    "plt.figure(figsize=(15, 6))\n",
    "plt.scatter(np.arange(horizon), list[sim], s=10)\n",
    "plt.grid(True)\n",
    "plt.yticks(range(0, len(pid_actions)))\n",
    "plt.xticks(range(0, horizon, int(horizon/10)))\n",
    "plt.xlabel('Time Horizon')\n",
    "plt.ylabel('PID action index')\n",
    "plt.title(f\"Pulled PID actions in simulation {sim}\")\n",
    "plt.show()"
   ]
  }
 ],
 "metadata": {
  "kernelspec": {
   "display_name": "Python 3",
   "language": "python",
   "name": "python3"
  },
  "language_info": {
   "codemirror_mode": {
    "name": "ipython",
    "version": 3
   },
   "file_extension": ".py",
   "mimetype": "text/x-python",
   "name": "python",
   "nbconvert_exporter": "python",
   "pygments_lexer": "ipython3",
   "version": "3.10.8"
  }
 },
 "nbformat": 4,
 "nbformat_minor": 2
}
